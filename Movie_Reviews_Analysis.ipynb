{
  "nbformat": 4,
  "nbformat_minor": 0,
  "metadata": {
    "colab": {
      "provenance": [],
      "gpuType": "T4",
      "authorship_tag": "ABX9TyPfskU8PgiMlBbvNOpU0T5Y",
      "include_colab_link": true
    },
    "kernelspec": {
      "name": "python3",
      "display_name": "Python 3"
    },
    "language_info": {
      "name": "python"
    },
    "accelerator": "GPU"
  },
  "cells": [
    {
      "cell_type": "markdown",
      "metadata": {
        "id": "view-in-github",
        "colab_type": "text"
      },
      "source": [
        "<a href=\"https://colab.research.google.com/github/ArthAgrawal/NLP_Concepts/blob/main/Movie_Reviews_Analysis.ipynb\" target=\"_parent\"><img src=\"https://colab.research.google.com/assets/colab-badge.svg\" alt=\"Open In Colab\"/></a>"
      ]
    },
    {
      "cell_type": "markdown",
      "source": [
        "This code implements a Word2Vec model from scratch on a custom dataset from Kaggle to classify movie reviews as negative or positive. Also, the model is deployed online using gradio"
      ],
      "metadata": {
        "id": "5ckx48ZjFEEQ"
      }
    },
    {
      "cell_type": "code",
      "execution_count": 9,
      "metadata": {
        "id": "m719x6fetshI"
      },
      "outputs": [],
      "source": [
        "import os\n",
        "import zipfile\n",
        "\n",
        "extract_dir = '/content/Movie_Reviews'\n",
        "\n",
        "if os.path.exists(extract_dir):\n",
        "    os.system(f'rm -rf {extract_dir}')\n",
        "os.makedirs(extract_dir, exist_ok=True)\n"
      ]
    },
    {
      "cell_type": "code",
      "source": [
        "try:\n",
        "    with zipfile.ZipFile('/content/Movie_Reviews.zip', 'r') as zip_ref:\n",
        "        zip_ref.extractall(extract_dir)\n",
        "        print(\"Extraction successful using zipfile.\")\n",
        "except zipfile.BadZipFile:\n",
        "    print(\"Error: File is not a valid zip file.\")\n",
        "except Exception as e:\n",
        "    print(f\"An error occurred: {e}\")\n"
      ],
      "metadata": {
        "colab": {
          "base_uri": "https://localhost:8080/"
        },
        "id": "7wH-5h2GubAI",
        "outputId": "9dbea4ae-a98e-48c1-c0cb-08292b237123"
      },
      "execution_count": 12,
      "outputs": [
        {
          "output_type": "stream",
          "name": "stdout",
          "text": [
            "Extraction successful using zipfile.\n"
          ]
        }
      ]
    },
    {
      "cell_type": "code",
      "source": [
        "import pandas as pd\n",
        "reviews = pd.read_csv('/content/Movie_Reviews/IMDB Dataset.csv', names=[\"message\", \"label\"])"
      ],
      "metadata": {
        "id": "v5v32qM0xLwz"
      },
      "execution_count": 17,
      "outputs": []
    },
    {
      "cell_type": "code",
      "source": [
        "reviews.head()"
      ],
      "metadata": {
        "colab": {
          "base_uri": "https://localhost:8080/",
          "height": 206
        },
        "id": "ORLU5CZzxhYF",
        "outputId": "1c913202-f6ee-4710-d4aa-d8c3f2e69862"
      },
      "execution_count": 18,
      "outputs": [
        {
          "output_type": "execute_result",
          "data": {
            "text/plain": [
              "                                             message      label\n",
              "0                                             review  sentiment\n",
              "1  One of the other reviewers has mentioned that ...   positive\n",
              "2  A wonderful little production. <br /><br />The...   positive\n",
              "3  I thought this was a wonderful way to spend ti...   positive\n",
              "4  Basically there's a family where a little boy ...   negative"
            ],
            "text/html": [
              "\n",
              "  <div id=\"df-ec97b7e3-3510-4f13-aabb-ed98febe5780\" class=\"colab-df-container\">\n",
              "    <div>\n",
              "<style scoped>\n",
              "    .dataframe tbody tr th:only-of-type {\n",
              "        vertical-align: middle;\n",
              "    }\n",
              "\n",
              "    .dataframe tbody tr th {\n",
              "        vertical-align: top;\n",
              "    }\n",
              "\n",
              "    .dataframe thead th {\n",
              "        text-align: right;\n",
              "    }\n",
              "</style>\n",
              "<table border=\"1\" class=\"dataframe\">\n",
              "  <thead>\n",
              "    <tr style=\"text-align: right;\">\n",
              "      <th></th>\n",
              "      <th>message</th>\n",
              "      <th>label</th>\n",
              "    </tr>\n",
              "  </thead>\n",
              "  <tbody>\n",
              "    <tr>\n",
              "      <th>0</th>\n",
              "      <td>review</td>\n",
              "      <td>sentiment</td>\n",
              "    </tr>\n",
              "    <tr>\n",
              "      <th>1</th>\n",
              "      <td>One of the other reviewers has mentioned that ...</td>\n",
              "      <td>positive</td>\n",
              "    </tr>\n",
              "    <tr>\n",
              "      <th>2</th>\n",
              "      <td>A wonderful little production. &lt;br /&gt;&lt;br /&gt;The...</td>\n",
              "      <td>positive</td>\n",
              "    </tr>\n",
              "    <tr>\n",
              "      <th>3</th>\n",
              "      <td>I thought this was a wonderful way to spend ti...</td>\n",
              "      <td>positive</td>\n",
              "    </tr>\n",
              "    <tr>\n",
              "      <th>4</th>\n",
              "      <td>Basically there's a family where a little boy ...</td>\n",
              "      <td>negative</td>\n",
              "    </tr>\n",
              "  </tbody>\n",
              "</table>\n",
              "</div>\n",
              "    <div class=\"colab-df-buttons\">\n",
              "\n",
              "  <div class=\"colab-df-container\">\n",
              "    <button class=\"colab-df-convert\" onclick=\"convertToInteractive('df-ec97b7e3-3510-4f13-aabb-ed98febe5780')\"\n",
              "            title=\"Convert this dataframe to an interactive table.\"\n",
              "            style=\"display:none;\">\n",
              "\n",
              "  <svg xmlns=\"http://www.w3.org/2000/svg\" height=\"24px\" viewBox=\"0 -960 960 960\">\n",
              "    <path d=\"M120-120v-720h720v720H120Zm60-500h600v-160H180v160Zm220 220h160v-160H400v160Zm0 220h160v-160H400v160ZM180-400h160v-160H180v160Zm440 0h160v-160H620v160ZM180-180h160v-160H180v160Zm440 0h160v-160H620v160Z\"/>\n",
              "  </svg>\n",
              "    </button>\n",
              "\n",
              "  <style>\n",
              "    .colab-df-container {\n",
              "      display:flex;\n",
              "      gap: 12px;\n",
              "    }\n",
              "\n",
              "    .colab-df-convert {\n",
              "      background-color: #E8F0FE;\n",
              "      border: none;\n",
              "      border-radius: 50%;\n",
              "      cursor: pointer;\n",
              "      display: none;\n",
              "      fill: #1967D2;\n",
              "      height: 32px;\n",
              "      padding: 0 0 0 0;\n",
              "      width: 32px;\n",
              "    }\n",
              "\n",
              "    .colab-df-convert:hover {\n",
              "      background-color: #E2EBFA;\n",
              "      box-shadow: 0px 1px 2px rgba(60, 64, 67, 0.3), 0px 1px 3px 1px rgba(60, 64, 67, 0.15);\n",
              "      fill: #174EA6;\n",
              "    }\n",
              "\n",
              "    .colab-df-buttons div {\n",
              "      margin-bottom: 4px;\n",
              "    }\n",
              "\n",
              "    [theme=dark] .colab-df-convert {\n",
              "      background-color: #3B4455;\n",
              "      fill: #D2E3FC;\n",
              "    }\n",
              "\n",
              "    [theme=dark] .colab-df-convert:hover {\n",
              "      background-color: #434B5C;\n",
              "      box-shadow: 0px 1px 3px 1px rgba(0, 0, 0, 0.15);\n",
              "      filter: drop-shadow(0px 1px 2px rgba(0, 0, 0, 0.3));\n",
              "      fill: #FFFFFF;\n",
              "    }\n",
              "  </style>\n",
              "\n",
              "    <script>\n",
              "      const buttonEl =\n",
              "        document.querySelector('#df-ec97b7e3-3510-4f13-aabb-ed98febe5780 button.colab-df-convert');\n",
              "      buttonEl.style.display =\n",
              "        google.colab.kernel.accessAllowed ? 'block' : 'none';\n",
              "\n",
              "      async function convertToInteractive(key) {\n",
              "        const element = document.querySelector('#df-ec97b7e3-3510-4f13-aabb-ed98febe5780');\n",
              "        const dataTable =\n",
              "          await google.colab.kernel.invokeFunction('convertToInteractive',\n",
              "                                                    [key], {});\n",
              "        if (!dataTable) return;\n",
              "\n",
              "        const docLinkHtml = 'Like what you see? Visit the ' +\n",
              "          '<a target=\"_blank\" href=https://colab.research.google.com/notebooks/data_table.ipynb>data table notebook</a>'\n",
              "          + ' to learn more about interactive tables.';\n",
              "        element.innerHTML = '';\n",
              "        dataTable['output_type'] = 'display_data';\n",
              "        await google.colab.output.renderOutput(dataTable, element);\n",
              "        const docLink = document.createElement('div');\n",
              "        docLink.innerHTML = docLinkHtml;\n",
              "        element.appendChild(docLink);\n",
              "      }\n",
              "    </script>\n",
              "  </div>\n",
              "\n",
              "\n",
              "<div id=\"df-9632d5eb-9da1-47b3-814f-4c009ded8a3c\">\n",
              "  <button class=\"colab-df-quickchart\" onclick=\"quickchart('df-9632d5eb-9da1-47b3-814f-4c009ded8a3c')\"\n",
              "            title=\"Suggest charts\"\n",
              "            style=\"display:none;\">\n",
              "\n",
              "<svg xmlns=\"http://www.w3.org/2000/svg\" height=\"24px\"viewBox=\"0 0 24 24\"\n",
              "     width=\"24px\">\n",
              "    <g>\n",
              "        <path d=\"M19 3H5c-1.1 0-2 .9-2 2v14c0 1.1.9 2 2 2h14c1.1 0 2-.9 2-2V5c0-1.1-.9-2-2-2zM9 17H7v-7h2v7zm4 0h-2V7h2v10zm4 0h-2v-4h2v4z\"/>\n",
              "    </g>\n",
              "</svg>\n",
              "  </button>\n",
              "\n",
              "<style>\n",
              "  .colab-df-quickchart {\n",
              "      --bg-color: #E8F0FE;\n",
              "      --fill-color: #1967D2;\n",
              "      --hover-bg-color: #E2EBFA;\n",
              "      --hover-fill-color: #174EA6;\n",
              "      --disabled-fill-color: #AAA;\n",
              "      --disabled-bg-color: #DDD;\n",
              "  }\n",
              "\n",
              "  [theme=dark] .colab-df-quickchart {\n",
              "      --bg-color: #3B4455;\n",
              "      --fill-color: #D2E3FC;\n",
              "      --hover-bg-color: #434B5C;\n",
              "      --hover-fill-color: #FFFFFF;\n",
              "      --disabled-bg-color: #3B4455;\n",
              "      --disabled-fill-color: #666;\n",
              "  }\n",
              "\n",
              "  .colab-df-quickchart {\n",
              "    background-color: var(--bg-color);\n",
              "    border: none;\n",
              "    border-radius: 50%;\n",
              "    cursor: pointer;\n",
              "    display: none;\n",
              "    fill: var(--fill-color);\n",
              "    height: 32px;\n",
              "    padding: 0;\n",
              "    width: 32px;\n",
              "  }\n",
              "\n",
              "  .colab-df-quickchart:hover {\n",
              "    background-color: var(--hover-bg-color);\n",
              "    box-shadow: 0 1px 2px rgba(60, 64, 67, 0.3), 0 1px 3px 1px rgba(60, 64, 67, 0.15);\n",
              "    fill: var(--button-hover-fill-color);\n",
              "  }\n",
              "\n",
              "  .colab-df-quickchart-complete:disabled,\n",
              "  .colab-df-quickchart-complete:disabled:hover {\n",
              "    background-color: var(--disabled-bg-color);\n",
              "    fill: var(--disabled-fill-color);\n",
              "    box-shadow: none;\n",
              "  }\n",
              "\n",
              "  .colab-df-spinner {\n",
              "    border: 2px solid var(--fill-color);\n",
              "    border-color: transparent;\n",
              "    border-bottom-color: var(--fill-color);\n",
              "    animation:\n",
              "      spin 1s steps(1) infinite;\n",
              "  }\n",
              "\n",
              "  @keyframes spin {\n",
              "    0% {\n",
              "      border-color: transparent;\n",
              "      border-bottom-color: var(--fill-color);\n",
              "      border-left-color: var(--fill-color);\n",
              "    }\n",
              "    20% {\n",
              "      border-color: transparent;\n",
              "      border-left-color: var(--fill-color);\n",
              "      border-top-color: var(--fill-color);\n",
              "    }\n",
              "    30% {\n",
              "      border-color: transparent;\n",
              "      border-left-color: var(--fill-color);\n",
              "      border-top-color: var(--fill-color);\n",
              "      border-right-color: var(--fill-color);\n",
              "    }\n",
              "    40% {\n",
              "      border-color: transparent;\n",
              "      border-right-color: var(--fill-color);\n",
              "      border-top-color: var(--fill-color);\n",
              "    }\n",
              "    60% {\n",
              "      border-color: transparent;\n",
              "      border-right-color: var(--fill-color);\n",
              "    }\n",
              "    80% {\n",
              "      border-color: transparent;\n",
              "      border-right-color: var(--fill-color);\n",
              "      border-bottom-color: var(--fill-color);\n",
              "    }\n",
              "    90% {\n",
              "      border-color: transparent;\n",
              "      border-bottom-color: var(--fill-color);\n",
              "    }\n",
              "  }\n",
              "</style>\n",
              "\n",
              "  <script>\n",
              "    async function quickchart(key) {\n",
              "      const quickchartButtonEl =\n",
              "        document.querySelector('#' + key + ' button');\n",
              "      quickchartButtonEl.disabled = true;  // To prevent multiple clicks.\n",
              "      quickchartButtonEl.classList.add('colab-df-spinner');\n",
              "      try {\n",
              "        const charts = await google.colab.kernel.invokeFunction(\n",
              "            'suggestCharts', [key], {});\n",
              "      } catch (error) {\n",
              "        console.error('Error during call to suggestCharts:', error);\n",
              "      }\n",
              "      quickchartButtonEl.classList.remove('colab-df-spinner');\n",
              "      quickchartButtonEl.classList.add('colab-df-quickchart-complete');\n",
              "    }\n",
              "    (() => {\n",
              "      let quickchartButtonEl =\n",
              "        document.querySelector('#df-9632d5eb-9da1-47b3-814f-4c009ded8a3c button');\n",
              "      quickchartButtonEl.style.display =\n",
              "        google.colab.kernel.accessAllowed ? 'block' : 'none';\n",
              "    })();\n",
              "  </script>\n",
              "</div>\n",
              "\n",
              "    </div>\n",
              "  </div>\n"
            ],
            "application/vnd.google.colaboratory.intrinsic+json": {
              "type": "dataframe",
              "variable_name": "reviews",
              "summary": "{\n  \"name\": \"reviews\",\n  \"rows\": 50001,\n  \"fields\": [\n    {\n      \"column\": \"message\",\n      \"properties\": {\n        \"dtype\": \"string\",\n        \"num_unique_values\": 49583,\n        \"samples\": [\n          \"This is a witty and delightful adaptation of the Dr Seuss book, brilliantly animated by UPA's finest and thoroughly deserving of its Academy Award. Special mention should be made of the superb music score and sound effects, which are an integral element in helping to make this such a memorable and enjoyable cartoon. Later episodes in the series (of which there were four in total) were not actually based on original Dr Seuss material, although all but the last continued to use his familiar rhyming style. The three sequels were: Gerald McBoing Boing's Symphony (1953); How Now Boing Boing (1954); Gerald McBoing Boing On Planet Moo (1956) - although he also appeared in a later episode of Mr Magoo.\",\n          \"All Dogs Go To Heaven is a movie that I have always liked. When I was a kid, I used to watch this every other day. It is underrated if you look at its IMDb rating and the comments of many people in general. This isn't a bad movie like many say, it is a very good movie. This is good and your kids will probably like it. Even though it's rated G, some parents may find this to be a bit violent. It is actually a pretty dark story, where the dogs are similar to mobsters who are involved in gambling, extortion, and even cold blooded murder. The movie follows a dog named Charlie who had escaped from the pound, is killed by his old friend, goes to heaven, but ends up coming back to earth. Many younger kids watching this movie may feel as though they are watching a big kids movie. <br /><br />There are some scenes that may scare little kids, but I'm sure they'll do fine. Every time I watch this movie, it reminds me of when I was a little kid. I'm sure everyone has a movie that reminds them of when they were younger, this is the movie that makes me feel that way. The performances from Burt Reynolds and Dom DeLuise are great, and this is the last movie that a little girl named Judith Barsi was in. Unfortunately, she was killed at a young age, which is a shame because she had so much potential and didn't deserve what happened. Now that I know her story, I can't watch this movie the same way anymore because her voice sounds so sad. <br /><br />The animation in this movie is great, the voice work is great, and the story is good, but a little bit different from many other kids movies. This was popular at the time of its release, but was over shadowed by Disney's mega popular The Little Mermaid. This is a movie that isn't conceived as well by adults, but if you're a kid, or if you grew up with this movie as a kid, then I'm sure you will enjoy watching it.\",\n          \"This movie got off to an interesting start. Down the road however, the story gets convoluted with a poor illustration of ancient black magic rituals. The male lead was very good , even though he gets the worst end of the stick in the climax. In comparison, this is \\\"Boomerang\\\" meets \\\"Extremities\\\".<br /><br />\"\n        ],\n        \"semantic_type\": \"\",\n        \"description\": \"\"\n      }\n    },\n    {\n      \"column\": \"label\",\n      \"properties\": {\n        \"dtype\": \"category\",\n        \"num_unique_values\": 3,\n        \"samples\": [\n          \"sentiment\",\n          \"positive\",\n          \"negative\"\n        ],\n        \"semantic_type\": \"\",\n        \"description\": \"\"\n      }\n    }\n  ]\n}"
            }
          },
          "metadata": {},
          "execution_count": 18
        }
      ]
    },
    {
      "cell_type": "code",
      "source": [
        "import re\n",
        "import nltk\n",
        "nltk.download('stopwords')"
      ],
      "metadata": {
        "colab": {
          "base_uri": "https://localhost:8080/"
        },
        "id": "ZYdxH7q9xwqt",
        "outputId": "5cb893cc-8eaa-40ea-b6d9-29cc7f71f5b3"
      },
      "execution_count": 19,
      "outputs": [
        {
          "output_type": "stream",
          "name": "stderr",
          "text": [
            "[nltk_data] Downloading package stopwords to /root/nltk_data...\n",
            "[nltk_data]   Unzipping corpora/stopwords.zip.\n"
          ]
        },
        {
          "output_type": "execute_result",
          "data": {
            "text/plain": [
              "True"
            ]
          },
          "metadata": {},
          "execution_count": 19
        }
      ]
    },
    {
      "cell_type": "code",
      "source": [
        "from nltk.stem import WordNetLemmatizer\n",
        "lemmatizer=WordNetLemmatizer()"
      ],
      "metadata": {
        "id": "A29YxovGx0BW"
      },
      "execution_count": 20,
      "outputs": []
    },
    {
      "cell_type": "code",
      "source": [
        "nltk.download('wordnet')"
      ],
      "metadata": {
        "colab": {
          "base_uri": "https://localhost:8080/"
        },
        "id": "YeaPrGcjyEPr",
        "outputId": "f1db6129-cee3-4b6b-ce87-ed36396bdba3"
      },
      "execution_count": 22,
      "outputs": [
        {
          "output_type": "stream",
          "name": "stderr",
          "text": [
            "[nltk_data] Downloading package wordnet to /root/nltk_data...\n"
          ]
        },
        {
          "output_type": "execute_result",
          "data": {
            "text/plain": [
              "True"
            ]
          },
          "metadata": {},
          "execution_count": 22
        }
      ]
    },
    {
      "cell_type": "code",
      "source": [
        "from nltk.corpus import stopwords\n",
        "corpus = []\n",
        "for i in range(0, len(reviews)):\n",
        "    review = re.sub('[^a-zA-Z]', ' ', reviews['message'][i])\n",
        "    review = review.lower()\n",
        "    review = review.split()\n",
        "    review = [lemmatizer.lemmatize(word) for word in review if not word in stopwords.words('english')]\n",
        "    review = ' '.join(review)\n",
        "    corpus.append(review)"
      ],
      "metadata": {
        "id": "c0jMoC7dx2iM"
      },
      "execution_count": 28,
      "outputs": []
    },
    {
      "cell_type": "code",
      "source": [
        "from nltk import sent_tokenize\n",
        "from gensim.utils import simple_preprocess"
      ],
      "metadata": {
        "id": "2ZSlSnnLx4Oc"
      },
      "execution_count": 29,
      "outputs": []
    },
    {
      "cell_type": "code",
      "source": [
        "corpus[1]"
      ],
      "metadata": {
        "colab": {
          "base_uri": "https://localhost:8080/",
          "height": 107
        },
        "id": "25VzhrJV4plE",
        "outputId": "5423494f-f501-44aa-8f2c-a72ad0f60630"
      },
      "execution_count": 31,
      "outputs": [
        {
          "output_type": "execute_result",
          "data": {
            "text/plain": [
              "'one reviewer mentioned watching oz episode hooked right exactly happened br br first thing struck oz brutality unflinching scene violence set right word go trust show faint hearted timid show pull punch regard drug sex violence hardcore classic use word br br called oz nickname given oswald maximum security state penitentary focus mainly emerald city experimental section prison cell glass front face inwards privacy high agenda em city home many aryan muslim gangsta latino christian italian irish scuffle death stare dodgy dealing shady agreement never far away br br would say main appeal show due fact go show dare forget pretty picture painted mainstream audience forget charm forget romance oz mess around first episode ever saw struck nasty surreal say ready watched developed taste oz got accustomed high level graphic violence violence injustice crooked guard sold nickel inmate kill order get away well mannered middle class inmate turned prison bitch due lack street skill prison experience watching oz may become comfortable uncomfortable viewing thats get touch darker side'"
            ],
            "application/vnd.google.colaboratory.intrinsic+json": {
              "type": "string"
            }
          },
          "metadata": {},
          "execution_count": 31
        }
      ]
    },
    {
      "cell_type": "code",
      "source": [
        "nltk.download('punkt')"
      ],
      "metadata": {
        "colab": {
          "base_uri": "https://localhost:8080/"
        },
        "id": "6n-eM2t34ryH",
        "outputId": "02f731aa-0c5c-47eb-e062-a4f334848880"
      },
      "execution_count": 32,
      "outputs": [
        {
          "output_type": "stream",
          "name": "stderr",
          "text": [
            "[nltk_data] Downloading package punkt to /root/nltk_data...\n",
            "[nltk_data]   Unzipping tokenizers/punkt.zip.\n"
          ]
        },
        {
          "output_type": "execute_result",
          "data": {
            "text/plain": [
              "True"
            ]
          },
          "metadata": {},
          "execution_count": 32
        }
      ]
    },
    {
      "cell_type": "code",
      "source": [
        "words=[]\n",
        "for sent in corpus:\n",
        "    sent_token=sent_tokenize(sent)\n",
        "    for sent in sent_token:\n",
        "        words.append(simple_preprocess(sent))"
      ],
      "metadata": {
        "id": "XjQdwUIt4yOV"
      },
      "execution_count": 33,
      "outputs": []
    },
    {
      "cell_type": "code",
      "source": [
        "words"
      ],
      "metadata": {
        "id": "XT2S9Xvi40G5"
      },
      "execution_count": null,
      "outputs": []
    },
    {
      "cell_type": "code",
      "source": [
        "import gensim\n",
        "model=gensim.models.Word2Vec(words,window=5,min_count=2)"
      ],
      "metadata": {
        "id": "8wQ81Hp845I2"
      },
      "execution_count": 35,
      "outputs": []
    },
    {
      "cell_type": "code",
      "source": [
        "model.wv.index_to_key"
      ],
      "metadata": {
        "id": "RL3hHB4N5Bqf"
      },
      "execution_count": null,
      "outputs": []
    },
    {
      "cell_type": "code",
      "source": [
        "model.corpus_count"
      ],
      "metadata": {
        "colab": {
          "base_uri": "https://localhost:8080/"
        },
        "id": "h6iJMDLS5E62",
        "outputId": "6a0f11f8-7165-424b-848f-5a8e61ddbcd4"
      },
      "execution_count": 37,
      "outputs": [
        {
          "output_type": "execute_result",
          "data": {
            "text/plain": [
              "50001"
            ]
          },
          "metadata": {},
          "execution_count": 37
        }
      ]
    },
    {
      "cell_type": "code",
      "source": [
        "from tqdm import tqdm\n",
        "\n",
        "total_examples = model.corpus_count\n",
        "epochs = 7\n",
        "\n",
        "# Using tqdm as a wrapper around the loop\n",
        "for _ in tqdm(range(epochs), desc='Training'):\n",
        "    model.train(words, total_examples=total_examples, epochs=1)\n"
      ],
      "metadata": {
        "colab": {
          "base_uri": "https://localhost:8080/"
        },
        "id": "GYwMTGjs5Hc8",
        "outputId": "5f60d34e-4d82-46db-c5cb-f991b54635a3"
      },
      "execution_count": 39,
      "outputs": [
        {
          "output_type": "stream",
          "name": "stderr",
          "text": [
            "Training:   0%|          | 0/7 [00:00<?, ?it/s]WARNING:gensim.models.word2vec:Effective 'alpha' higher than previous training cycles\n",
            "Training:  14%|█▍        | 1/7 [00:08<00:49,  8.32s/it]WARNING:gensim.models.word2vec:Effective 'alpha' higher than previous training cycles\n",
            "Training:  29%|██▊       | 2/7 [00:17<00:45,  9.05s/it]WARNING:gensim.models.word2vec:Effective 'alpha' higher than previous training cycles\n",
            "Training:  43%|████▎     | 3/7 [00:26<00:34,  8.71s/it]WARNING:gensim.models.word2vec:Effective 'alpha' higher than previous training cycles\n",
            "Training:  57%|█████▋    | 4/7 [00:35<00:26,  8.82s/it]WARNING:gensim.models.word2vec:Effective 'alpha' higher than previous training cycles\n",
            "Training:  71%|███████▏  | 5/7 [00:44<00:18,  9.09s/it]WARNING:gensim.models.word2vec:Effective 'alpha' higher than previous training cycles\n",
            "Training:  86%|████████▌ | 6/7 [00:52<00:08,  8.60s/it]WARNING:gensim.models.word2vec:Effective 'alpha' higher than previous training cycles\n",
            "Training: 100%|██████████| 7/7 [01:02<00:00,  8.86s/it]\n"
          ]
        }
      ]
    },
    {
      "cell_type": "code",
      "source": [
        "model.wv.similar_by_word('good')"
      ],
      "metadata": {
        "colab": {
          "base_uri": "https://localhost:8080/"
        },
        "id": "o5sZaO5t5J_D",
        "outputId": "2bf55090-81be-4eea-f01c-59eca1847b07"
      },
      "execution_count": 40,
      "outputs": [
        {
          "output_type": "execute_result",
          "data": {
            "text/plain": [
              "[('decent', 0.7148751020431519),\n",
              " ('great', 0.6938554048538208),\n",
              " ('bad', 0.691465437412262),\n",
              " ('okay', 0.6423685550689697),\n",
              " ('nice', 0.6283279657363892),\n",
              " ('alright', 0.5993855595588684),\n",
              " ('excellent', 0.5859102606773376),\n",
              " ('ok', 0.5846730470657349),\n",
              " ('fine', 0.5829504728317261),\n",
              " ('cool', 0.5540934205055237)]"
            ]
          },
          "metadata": {},
          "execution_count": 40
        }
      ]
    },
    {
      "cell_type": "code",
      "source": [
        "model.wv.similar_by_word('horrible')"
      ],
      "metadata": {
        "colab": {
          "base_uri": "https://localhost:8080/"
        },
        "id": "-LrI7zSZ9dFn",
        "outputId": "b799aebf-d903-4ae4-8103-3ff3bb4a2ff5"
      },
      "execution_count": 41,
      "outputs": [
        {
          "output_type": "execute_result",
          "data": {
            "text/plain": [
              "[('terrible', 0.8801614046096802),\n",
              " ('awful', 0.8272002339363098),\n",
              " ('horrendous', 0.7815074920654297),\n",
              " ('horrid', 0.7556914687156677),\n",
              " ('atrocious', 0.7403457760810852),\n",
              " ('bad', 0.7238848805427551),\n",
              " ('dreadful', 0.7117467522621155),\n",
              " ('lousy', 0.7095235586166382),\n",
              " ('pathetic', 0.6784472465515137),\n",
              " ('abysmal', 0.6733323931694031)]"
            ]
          },
          "metadata": {},
          "execution_count": 41
        }
      ]
    },
    {
      "cell_type": "code",
      "source": [
        "from sklearn.feature_extraction.text import CountVectorizer\n",
        "from sklearn.model_selection import train_test_split\n",
        "from sklearn.naive_bayes import MultinomialNB\n",
        "from sklearn.metrics import accuracy_score\n",
        "\n",
        "# Converting the preprocessed text data into word vectors\n",
        "X = [' '.join(words) for words in words]\n",
        "y = reviews['label']\n",
        "\n",
        "X_train, X_test, y_train, y_test = train_test_split(X, y, test_size=0.2, random_state=42)\n",
        "\n",
        "# Creating a CountVectorizer to convert text into a matrix of token counts\n",
        "vectorizer = CountVectorizer()\n",
        "X_train_counts = vectorizer.fit_transform(X_train)\n",
        "X_test_counts = vectorizer.transform(X_test)\n",
        "\n",
        "# Training the Multinomial NB classifier\n",
        "clf = MultinomialNB()\n",
        "clf.fit(X_train_counts, y_train)\n",
        "\n",
        "y_pred = clf.predict(X_test_counts)\n",
        "\n",
        "accuracy = accuracy_score(y_test, y_pred)\n",
        "print(f\"Accuracy: {accuracy}\")\n"
      ],
      "metadata": {
        "colab": {
          "base_uri": "https://localhost:8080/"
        },
        "id": "6UzdDZ4M9oYk",
        "outputId": "9e9ee28f-9ab6-4319-9e4a-d5e55efda5f1"
      },
      "execution_count": 43,
      "outputs": [
        {
          "output_type": "stream",
          "name": "stdout",
          "text": [
            "Accuracy: 0.8602139786021398\n"
          ]
        }
      ]
    },
    {
      "cell_type": "code",
      "source": [
        "new_text = input()\n",
        "new_text = re.sub('[^a-zA-Z]', ' ', new_text)\n",
        "new_text = new_text.lower()\n",
        "new_text = new_text.split()\n",
        "new_text = [lemmatizer.lemmatize(word) for word in new_text if not word in stopwords.words('english')]\n",
        "new_text = ' '.join(new_text)\n",
        "\n",
        "# Converting the preprocessed text data into word vectors\n",
        "new_text_words = simple_preprocess(new_text)\n",
        "new_text_vec = []\n",
        "for word in new_text_words:\n",
        "    if word in model.wv.index_to_key:\n",
        "        new_text_vec.append(model.wv[word])\n",
        "\n",
        "# Transforming word vectors into a format suitable for the Multinomial NB classifier\n",
        "new_text_vec = vectorizer.transform([' '.join(new_text_words)])\n",
        "\n",
        "\n",
        "new_text_pred = clf.predict(new_text_vec)\n",
        "\n",
        "print(f\"Predicted label for the new review: {new_text_pred[0]}\")\n"
      ],
      "metadata": {
        "colab": {
          "base_uri": "https://localhost:8080/"
        },
        "id": "KH3BkwW2_JuI",
        "outputId": "116686e7-10d1-4afc-f67e-bee78d69b429"
      },
      "execution_count": 49,
      "outputs": [
        {
          "output_type": "stream",
          "name": "stdout",
          "text": [
            "This movie was perfectly paced and suitqble to all genertions\n",
            "Predicted label for the new review: positive\n"
          ]
        }
      ]
    },
    {
      "cell_type": "code",
      "source": [
        "model.save('word2vec_model.model')"
      ],
      "metadata": {
        "id": "dF4w5GhGCB4j"
      },
      "execution_count": 51,
      "outputs": []
    },
    {
      "cell_type": "code",
      "source": [
        "import joblib\n",
        "\n",
        "joblib.dump(clf, 'multinomial_nb_model.pkl')"
      ],
      "metadata": {
        "id": "qKIXGF9jCarK"
      },
      "execution_count": null,
      "outputs": []
    },
    {
      "cell_type": "code",
      "source": [
        "# pip install gradio"
      ],
      "metadata": {
        "id": "-7lt3RDoBmqC"
      },
      "execution_count": null,
      "outputs": []
    },
    {
      "cell_type": "code",
      "source": [
        "from joblib import load\n",
        "\n",
        "# Loading the trained Multinomial Naive Bayes model\n",
        "clf = load('multinomial_nb_model.pkl')\n"
      ],
      "metadata": {
        "id": "sX2Wz9ECCpAd"
      },
      "execution_count": null,
      "outputs": []
    },
    {
      "cell_type": "code",
      "source": [
        "import re\n",
        "import nltk\n",
        "import gensim\n",
        "import numpy as np\n",
        "import gradio as gr\n",
        "\n",
        "# Loading the trained Word2Vec model\n",
        "model = gensim.models.Word2Vec.load('word2vec_model.model')\n",
        "\n",
        "# Loading the trained Multinomial Naive Bayes model\n",
        "clf = load('multinomial_nb_model.pkl')\n",
        "\n",
        "def preprocess_text(text):\n",
        "    review = re.sub('[^a-zA-Z]', ' ', text)\n",
        "    review = review.lower()\n",
        "    review = review.split()\n",
        "    review = [lemmatizer.lemmatize(word) for word in review if not word in stopwords.words('english')]\n",
        "    review = ' '.join(review)\n",
        "    return review\n",
        "\n",
        "# Prediction function\n",
        "def predict_sentiment(text):\n",
        "    # Preprocessing the text\n",
        "    processed_text = preprocess_text(text)\n",
        "\n",
        "    # Converting the processed text into word vectors\n",
        "    words = simple_preprocess(processed_text)\n",
        "    text_vec = []\n",
        "    for word in words:\n",
        "        if word in model.wv.index_to_key:\n",
        "            text_vec.append(model.wv[word])\n",
        "\n",
        "    # Transforming word vectors into a format suitable for the Multinomial NB classifier\n",
        "    text_vec = vectorizer.transform([' '.join(words)])\n",
        "\n",
        "    # Making prediction\n",
        "    prediction = clf.predict(text_vec)\n",
        "\n",
        "    return prediction[0]\n",
        "\n",
        "# Creating a Gradio interface\n",
        "iface = gr.Interface(fn=predict_sentiment, inputs=\"text\", outputs=\"text\")\n",
        "\n",
        "# Running the Gradio interface\n",
        "iface.launch()\n"
      ],
      "metadata": {
        "colab": {
          "base_uri": "https://localhost:8080/",
          "height": 628
        },
        "id": "I9tllZQaAjQ7",
        "outputId": "25df0742-7d64-4ba8-9d74-dc8642e77d2c"
      },
      "execution_count": 58,
      "outputs": [
        {
          "output_type": "stream",
          "name": "stdout",
          "text": [
            "Setting queue=True in a Colab notebook requires sharing enabled. Setting `share=True` (you can turn this off by setting `share=False` in `launch()` explicitly).\n",
            "\n",
            "Colab notebook detected. To show errors in colab notebook, set debug=True in launch()\n",
            "Running on public URL: https://479903bf3633cf35cb.gradio.live\n",
            "\n",
            "This share link expires in 72 hours. For free permanent hosting and GPU upgrades, run `gradio deploy` from Terminal to deploy to Spaces (https://huggingface.co/spaces)\n"
          ]
        },
        {
          "output_type": "display_data",
          "data": {
            "text/plain": [
              "<IPython.core.display.HTML object>"
            ],
            "text/html": [
              "<div><iframe src=\"https://479903bf3633cf35cb.gradio.live\" width=\"100%\" height=\"500\" allow=\"autoplay; camera; microphone; clipboard-read; clipboard-write;\" frameborder=\"0\" allowfullscreen></iframe></div>"
            ]
          },
          "metadata": {}
        },
        {
          "output_type": "execute_result",
          "data": {
            "text/plain": []
          },
          "metadata": {},
          "execution_count": 58
        }
      ]
    }
  ]
}